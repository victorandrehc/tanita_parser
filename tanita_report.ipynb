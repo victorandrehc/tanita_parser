{
 "cells": [
  {
   "cell_type": "code",
   "execution_count": null,
   "id": "b1e751a5-61ac-48cf-ad87-b3b012e34e48",
   "metadata": {},
   "outputs": [],
   "source": [
    "import tanita_parser"
   ]
  },
  {
   "cell_type": "code",
   "execution_count": null,
   "id": "fe372eed-2e6b-486f-a23e-f42c6b2a078a",
   "metadata": {},
   "outputs": [],
   "source": [
    "filename = \"DATA1.CSV\"\n",
    "with open(filename, \"r\") as file:\n",
    "    data = tanita_parser.parse_tanita_csv(file)"
   ]
  },
  {
   "cell_type": "code",
   "execution_count": null,
   "id": "9b968f7e-0ce1-443e-8a9f-3a0167c22d12",
   "metadata": {},
   "outputs": [],
   "source": [
    "tanita_parser.print_table(data)"
   ]
  }
 ],
 "metadata": {
  "kernelspec": {
   "display_name": "Python 3 (ipykernel)",
   "language": "python",
   "name": "python3"
  },
  "language_info": {
   "codemirror_mode": {
    "name": "ipython",
    "version": 3
   },
   "file_extension": ".py",
   "mimetype": "text/x-python",
   "name": "python",
   "nbconvert_exporter": "python",
   "pygments_lexer": "ipython3",
   "version": "3.12.7"
  }
 },
 "nbformat": 4,
 "nbformat_minor": 5
}
